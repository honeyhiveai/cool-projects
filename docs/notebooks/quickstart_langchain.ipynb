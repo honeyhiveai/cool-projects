{
    "nbformat": 4,
    "nbformat_minor": 2,
    "cells": [
        {
            "cell_type": "markdown",
            "metadata": {},
            "source": [
                "---\n# \"Tracing LangChain Pipelines\"\n## \"Get started by tracing your LangChain chains and agents with HoneyHive.\"\nThis notebook is a companion to this [guide](https://docs.honeyhive.ai/quickstart/langchain) <a target=\"_blank\" href=\"https://github.com/honeyhiveai/honeyhive-cookbook/blob/master/docs/notebooks/quickstart_langchain.ipynb\">\n  <img src=\"https://colab.research.google.com/assets/colab-badge.svg\" alt=\"Open In Colab\"/>\n</a>\n\n\n### Introduction\n\nIn the following example, we are going to walk through how to log your LangChain runs to HoneyHive for benchmarking and sharing. For a complete overview of LangChain tracing in HoneyHive, you can refer to our [LangChain Tracing](/logging-langchain) guide.\n\n### Get API key\n\nAfter signing up on the app, you can find your API key in the [Settings](https://app.honeyhive.ai/settings/account) page under Account.\n\n### Install the SDK\n\nWe currently support a native Python SDK. For other languages, we encourage using HTTP request libraries to send requests.\n\n"
            ]
        },
        {
            "cell_type": "code",
            "execution_count": 1,
            "metadata": {},
            "source": [
                "pip install honeyhive -q\n"
            ],
            "outputs": [
                {
                    "output_type": "stream",
                    "name": "stdout",
                    "text": [
                        "hhai"
                    ]
                }
            ]
        },
        {
            "cell_type": "markdown",
            "metadata": {},
            "source": [
                "\n\n### Trace your LangChain chains and agents\n\nIf you haven't already done so, then the first thing you will need to do is <a href=\"/projects#create-a-new-project\">create a HoneyHive project</a>.\n\nOnce you have created a HoneyHive project, you can now start tracing your LangChain chain or agent.\n\n1. **Initializing HoneyHive tracer:** First, let's start by initializing the HoneyHive tracer. See below.\n\n"
            ]
        },
        {
            "cell_type": "code",
            "execution_count": 1,
            "metadata": {},
            "source": [
                "import os\nfrom honeyhive.sdk.langchain_tracer import HoneyHiveLangChainTracer\n\nHONEYHIVE_API_KEY = \"YOUR_HONEYHIVE_API_KEY\"\nOPENAI_API_KEY = \"YOUR_HONEYHIVE_API_KEY\"\nSERP_API_KEY = \"YOUR_SERP_API_KEY\"\n\nhoneyhive_tracer = HoneyHiveLangChainTracer(\n    project=\"AI Search Chatbot\",     # necessary field: specify which project within HoneyHive\n    name=\"SERP Q&A\",                 # optional field: name of the chain/agent you are running\n    source=\"staging\",                # optional field: source (to separate production & staging environments)\n    user_properties={                # optional field: specify user properties for whom this was ran\n        \"user_id\": \"sd8298bxjn0s\",\n        \"user_account\": \"Acme\",                                 \n        \"user_country\": \"United States\",\n        \"user_subscriptiontier\": \"enterprise\"\n    },\n    api_key=HONEYHIVE_API_KEY\n)\n"
            ],
            "outputs": [
                {
                    "output_type": "stream",
                    "name": "stdout",
                    "text": [
                        "hhai"
                    ]
                }
            ]
        },
        {
            "cell_type": "markdown",
            "metadata": {},
            "source": [
                "\n\n2. **Define Langchain chain or agent:** Next, let's initialize the OpenAI LLM and define tools for our Langchain agent. See below.\n\n"
            ]
        },
        {
            "cell_type": "code",
            "execution_count": 1,
            "metadata": {},
            "source": [
                "from langchain import LLMMathChain, OpenAI, SerpAPIWrapper, Wikipedia\nfrom langchain.agents import Tool, initialize_agent\nfrom langchain.tools import StructuredTool\nfrom langchain.agents.react.base import DocstoreExplorer\nfrom langchain.callbacks import StdOutCallbackHandler\n\n# Initialise the OpenAI LLM and required callables for our tools\nllm = OpenAI(\n    temperature=0, openai_api_key=OPENAI_API_KEY\n)\nsearch = SerpAPIWrapper(\n    serpapi_api_key=SERP_API_KEY\n)\nllm_math_chain = LLMMathChain.from_llm(llm=llm)\ndocstore = DocstoreExplorer(Wikipedia())\n\n# Define the tools to be fed to the agent\ntools = [\n    Tool(\n        name=\"Google\",\n        func=search.run,\n        description=\"Useful for when you need to answer questions about current events. You should ask targeted questions.\",\n    ),\n    Tool(\n        name=\"Wikipedia\",\n        func=docstore.search,\n        description=\"Useful for when you need factual information. Ask search terms for Wikipedia\",\n    ),\n    Tool(\n        name=\"Calculator\",\n        func=llm_math_chain.run,\n        description=\"Useful for when you need to answer questions about math.\",\n    )\n]\n"
            ],
            "outputs": [
                {
                    "output_type": "stream",
                    "name": "stdout",
                    "text": [
                        "hhai"
                    ]
                }
            ]
        },
        {
            "cell_type": "markdown",
            "metadata": {},
            "source": [
                "\n\n3. **Running LangChain agent with HoneyHive callback handler:** Lastly, let's run the Langchain agent. Here, you will need to define `honeyhive_tracer` as the callback handler.\n\n"
            ]
        },
        {
            "cell_type": "code",
            "execution_count": 1,
            "metadata": {},
            "source": [
                "# Initialise the agent with HoneyHive callback handler\nagent = initialize_agent(tools=tools, llm=llm)\nagent(\n    \"Which city is closest to London as the crow flies, Berlin or Munich?\",\n    callbacks=[honeyhive_tracer]\n)\n"
            ],
            "outputs": [
                {
                    "output_type": "stream",
                    "name": "stdout",
                    "text": [
                        "hhai"
                    ]
                }
            ]
        },
        {
            "cell_type": "markdown",
            "metadata": {},
            "source": [
                "\n\nYou can now view this trace from within the HoneyHive platform by clicking on **Datasets** in the sidebar and then **Traces**.\n![Trace](/images/trace_screenshot2.png)\n\n### Log user feedback for this session\n\nNow that you\u2019ve logged a request in HoneyHive, let\u2019s try logging user feedback and ground truth labels associated with this session.\n\nUsing the `session_id` that is returned, you can send arbitrary feedback to HoneyHive using the feedback endpoint.\n\n"
            ]
        },
        {
            "cell_type": "code",
            "execution_count": 1,
            "metadata": {},
            "source": [
                "import honeyhive\n\nhoneyhive.sessions.feedback(\n    session_id = honeyhive_tracer.session_id,\n    feedback = {\n        \"accepted\": True,\n        \"saved\": True,\n        \"regenerated\": False,\n        \"edited\": False\n    }\n)\n"
            ],
            "outputs": [
                {
                    "output_type": "stream",
                    "name": "stdout",
                    "text": [
                        "hhai"
                    ]
                }
            ]
        }
    ],
    "metadata": {
        "kernelspec": {
            "display_name": "Python 3",
            "language": "python",
            "name": "python3"
        }
    }
}